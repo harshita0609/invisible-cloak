{
 "cells": [
  {
   "cell_type": "code",
   "execution_count": 13,
   "metadata": {},
   "outputs": [],
   "source": [
    "import cv2\n",
    "import numpy as np"
   ]
  },
  {
   "cell_type": "code",
   "execution_count": 3,
   "metadata": {},
   "outputs": [
    {
     "name": "stdout",
     "output_type": "stream",
     "text": [
      "3.4.2\n"
     ]
    }
   ],
   "source": [
    "print(cv2.__version__)"
   ]
  },
  {
   "cell_type": "code",
   "execution_count": null,
   "metadata": {},
   "outputs": [],
   "source": [
    "cap = cv2.VideoCapture(0)\n",
    "back = cv2.imread('./image.jpg')\n",
    "\n",
    "while True:\n",
    "    #take each frame\n",
    "    ret, frame = cap.read()\n",
    "    if ret:\n",
    "        hsv = cv2.cvtColor(frame,cv2.COLOR_BGR2HSV)\n",
    "        #cv2.imshow(\"hsv\",hsv)\n",
    "        \n",
    "        # how to get hsv value?\n",
    "        #lower: hue -10,100,100  higher : h+10,255,255\n",
    "        red = np.uint8([[[0,0,255]]])  # my cloak is of red color\n",
    "        hsv_red = cv2.cvtColor(red,cv2.COLOR_BGR2HSV)\n",
    "        #print(hsv_red)\n",
    "        \n",
    "        \n",
    "        #threshold for red color\n",
    "        l_red= np.array([0,100,100])\n",
    "        r_red= np.array([10,255,255])\n",
    "        \n",
    "        mask = cv2.inRange(hsv,l_red,r_red)\n",
    "        \n",
    "        #cv2.imshow(\"mask\",mask) # shows all red color highlighted as white rest as black\n",
    "        \n",
    "        # now we are taking background behind red color\n",
    "        part1 = cv2.bitwise_and(back,back,mask=mask)\n",
    "        #cv2.imshow(\"part1\",part1)\n",
    "        \n",
    "        mask = cv2.bitwise_not(mask)\n",
    "        \n",
    "        #showing rest colors which were shown as black\n",
    "        part2 = cv2.bitwise_and(frame,frame, mask= mask)\n",
    "        #cv2.imshow(\"mask\",part2)\n",
    "        \n",
    "        \n",
    "        cv2.imshow(\"cloak\",part1+part2)\n",
    "        \n",
    "        \n",
    "        \n",
    "        if( cv2.waitKey(5) == ord('q')):\n",
    "            break\n",
    "cap.release()\n",
    "cv2.destroyAllWindows()\n",
    "\n",
    "        \n",
    "#hsv = hue =color saturation==mix with white value= mix with black\n",
    "# hsv vs rgb  how humans eye see is hsv   rgb just describes the mixture of primary colors\n",
    "#hsv considers luminous effect like human eye see\n"
   ]
  },
  {
   "cell_type": "code",
   "execution_count": 6,
   "metadata": {},
   "outputs": [],
   "source": [
    "cap.release()"
   ]
  }
 ],
 "metadata": {
  "kernelspec": {
   "display_name": "Python 3",
   "language": "python",
   "name": "python3"
  },
  "language_info": {
   "codemirror_mode": {
    "name": "ipython",
    "version": 3
   },
   "file_extension": ".py",
   "mimetype": "text/x-python",
   "name": "python",
   "nbconvert_exporter": "python",
   "pygments_lexer": "ipython3",
   "version": "3.6.5"
  }
 },
 "nbformat": 4,
 "nbformat_minor": 2
}
